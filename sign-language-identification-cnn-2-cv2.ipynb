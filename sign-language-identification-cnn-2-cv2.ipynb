{
 "cells": [
  {
   "cell_type": "code",
   "execution_count": 1,
   "metadata": {
    "execution": {
     "iopub.execute_input": "2021-10-16T10:47:09.406702Z",
     "iopub.status.busy": "2021-10-16T10:47:09.406126Z",
     "iopub.status.idle": "2021-10-16T10:47:14.462390Z",
     "shell.execute_reply": "2021-10-16T10:47:14.461534Z",
     "shell.execute_reply.started": "2021-10-16T10:47:09.406614Z"
    }
   },
   "outputs": [],
   "source": [
    "import tensorflow as tf\n",
    "import matplotlib.pyplot as plt\n",
    "%matplotlib inline\n",
    "import pandas as pd\n",
    "import numpy as np\n",
    "from sklearn.metrics import classification_report"
   ]
  },
  {
   "cell_type": "code",
   "execution_count": 2,
   "metadata": {
    "execution": {
     "iopub.execute_input": "2021-10-16T10:48:07.195246Z",
     "iopub.status.busy": "2021-10-16T10:48:07.194972Z",
     "iopub.status.idle": "2021-10-16T10:49:08.100432Z",
     "shell.execute_reply": "2021-10-16T10:49:08.099747Z",
     "shell.execute_reply.started": "2021-10-16T10:48:07.195218Z"
    }
   },
   "outputs": [],
   "source": [
    "image_path = \"../input/asl-alphabet/asl_alphabet_train/asl_alphabet_train\"\n",
    "train_ds = tf.keras.preprocessing.image_dataset_from_directory(\n",
    "  image_path,\n",
    "  image_size=(224,224),\n",
    "  batch_size=32,\n",
    "validation_split=0.25,\n",
    "  subset=\"training\",\n",
    "  seed=323,\n",
    "color_mode = 'grayscale')\n",
    "\n",
    "\n",
    "val_ds = tf.keras.preprocessing.image_dataset_from_directory(\n",
    "  image_path,\n",
    "  image_size=(224,224),\n",
    "  batch_size=32,\n",
    "validation_split=0.25,\n",
    "  subset=\"validation\",\n",
    "  seed=323,\n",
    "color_mode = 'grayscale')\n",
    "\n",
    "test_path = \"../input/asl-alphabet/asl_alphabet_test/asl_alphabet_test\"\n",
    "\n"
   ]
  },
  {
   "cell_type": "code",
   "execution_count": 3,
   "metadata": {
    "execution": {
     "iopub.execute_input": "2021-10-16T10:49:12.029373Z",
     "iopub.status.busy": "2021-10-16T10:49:12.028799Z",
     "iopub.status.idle": "2021-10-16T10:49:12.037008Z",
     "shell.execute_reply": "2021-10-16T10:49:12.036071Z",
     "shell.execute_reply.started": "2021-10-16T10:49:12.029325Z"
    }
   },
   "outputs": [],
   "source": [
    "import glob\n",
    "import pathlib \n",
    "\n",
    "data_dir = pathlib.Path(image_path)\n",
    "class_names = np.array(sorted([item.name for item in data_dir.glob('*') if item.name != \"LICENSE.txt\"]))\n",
    "print(class_names)"
   ]
  },
  {
   "cell_type": "code",
   "execution_count": 4,
   "metadata": {
    "execution": {
     "iopub.execute_input": "2021-10-16T10:49:15.760776Z",
     "iopub.status.busy": "2021-10-16T10:49:15.760431Z",
     "iopub.status.idle": "2021-10-16T10:49:16.102933Z",
     "shell.execute_reply": "2021-10-16T10:49:16.102106Z",
     "shell.execute_reply.started": "2021-10-16T10:49:15.760740Z"
    }
   },
   "outputs": [],
   "source": [
    "import cv2\n",
    "import os\n",
    "\n",
    "test_class = []\n",
    "def load_images_from_folder(folder):\n",
    "    images = []\n",
    "    for filename in os.listdir(folder):\n",
    "        test_class.append(filename[0])\n",
    "        img = cv2.imread(os.path.join(folder,filename), 0)\n",
    "        img = cv2.resize(img , (224,224))\n",
    "        if img is not None:\n",
    "            images.append(img)\n",
    "    return images\n",
    "\n",
    "pred_images = load_images_from_folder(test_path)\n",
    "test_class"
   ]
  },
  {
   "cell_type": "code",
   "execution_count": 5,
   "metadata": {
    "execution": {
     "iopub.execute_input": "2021-10-16T10:49:19.864694Z",
     "iopub.status.busy": "2021-10-16T10:49:19.864220Z",
     "iopub.status.idle": "2021-10-16T10:49:19.873058Z",
     "shell.execute_reply": "2021-10-16T10:49:19.872270Z",
     "shell.execute_reply.started": "2021-10-16T10:49:19.864656Z"
    }
   },
   "outputs": [],
   "source": [
    "type(pred_images)"
   ]
  },
  {
   "cell_type": "code",
   "execution_count": 6,
   "metadata": {
    "execution": {
     "iopub.execute_input": "2021-10-16T10:49:23.191246Z",
     "iopub.status.busy": "2021-10-16T10:49:23.190990Z",
     "iopub.status.idle": "2021-10-16T10:49:23.197851Z",
     "shell.execute_reply": "2021-10-16T10:49:23.197095Z",
     "shell.execute_reply.started": "2021-10-16T10:49:23.191218Z"
    }
   },
   "outputs": [],
   "source": [
    "pred_images = np.array(pred_images)\n",
    "print(pred_images.shape)\n",
    "pred_images_resized = pred_images.reshape(pred_images.shape[0], 224, 224, 1)\n",
    "print(pred_images_resized.shape)"
   ]
  },
  {
   "cell_type": "code",
   "execution_count": 7,
   "metadata": {
    "execution": {
     "iopub.execute_input": "2021-10-16T10:49:26.496539Z",
     "iopub.status.busy": "2021-10-16T10:49:26.494052Z",
     "iopub.status.idle": "2021-10-16T10:49:27.443638Z",
     "shell.execute_reply": "2021-10-16T10:49:27.442972Z",
     "shell.execute_reply.started": "2021-10-16T10:49:26.496490Z"
    }
   },
   "outputs": [],
   "source": [
    "## visualize prediction images \n",
    "plt.figure(figsize=(10, 10))\n",
    "for i in range(9):\n",
    "    ax = plt.subplot(3, 3, i + 1)\n",
    "    plt.imshow(pred_images[i])\n",
    "    plt.title(test_class[i])\n",
    "    plt.axis(\"off\")"
   ]
  },
  {
   "cell_type": "code",
   "execution_count": 8,
   "metadata": {
    "execution": {
     "iopub.execute_input": "2021-10-16T10:49:34.550985Z",
     "iopub.status.busy": "2021-10-16T10:49:34.550728Z",
     "iopub.status.idle": "2021-10-16T10:49:36.955217Z",
     "shell.execute_reply": "2021-10-16T10:49:36.954513Z",
     "shell.execute_reply.started": "2021-10-16T10:49:34.550958Z"
    }
   },
   "outputs": [],
   "source": [
    "## visualize train set images\n",
    "image_batch, label_batch = next(iter(train_ds))\n",
    "plt.figure(figsize=(10, 10))\n",
    "for i in range(9):\n",
    "    ax = plt.subplot(3, 3, i + 1)\n",
    "    plt.imshow(image_batch[i].numpy().astype(\"uint8\"))\n",
    "    label = label_batch[i]\n",
    "    name = class_names[label]\n",
    "    plt.title(name)\n",
    "    plt.axis(\"off\")"
   ]
  },
  {
   "cell_type": "code",
   "execution_count": 9,
   "metadata": {
    "execution": {
     "iopub.execute_input": "2021-10-16T10:49:41.248059Z",
     "iopub.status.busy": "2021-10-16T10:49:41.247490Z",
     "iopub.status.idle": "2021-10-16T10:49:43.462124Z",
     "shell.execute_reply": "2021-10-16T10:49:43.461436Z",
     "shell.execute_reply.started": "2021-10-16T10:49:41.248024Z"
    }
   },
   "outputs": [],
   "source": [
    "## visualize validation images \n",
    "image_batch, label_batch = next(iter(val_ds))\n",
    "plt.figure(figsize=(10, 10))\n",
    "for i in range(9):\n",
    "    ax = plt.subplot(3, 3, i + 1)\n",
    "    plt.imshow(image_batch[i].numpy().astype(\"uint8\"))\n",
    "    label = label_batch[i]\n",
    "    name = class_names[label]\n",
    "    plt.title(name)\n",
    "    plt.axis(\"off\")"
   ]
  },
  {
   "cell_type": "code",
   "execution_count": 10,
   "metadata": {
    "execution": {
     "iopub.execute_input": "2021-10-16T10:49:54.908229Z",
     "iopub.status.busy": "2021-10-16T10:49:54.907553Z",
     "iopub.status.idle": "2021-10-16T11:14:15.381094Z",
     "shell.execute_reply": "2021-10-16T11:14:15.380451Z",
     "shell.execute_reply.started": "2021-10-16T10:49:54.908195Z"
    }
   },
   "outputs": [],
   "source": [
    "## two layer CNN with lesser filter 8, 8\n",
    "\n",
    "##\n",
    "model = tf.keras.models.Sequential([\n",
    "    tf.keras.layers.Conv2D( activation='relu', input_shape=(224, 224, 1), filters = 8, kernel_size = 3),\n",
    "    tf.keras.layers.MaxPooling2D(pool_size = (2,2), strides = (2, 2)), \n",
    "     tf.keras.layers.Conv2D( activation='relu', input_shape=(224, 224, 1), filters = 8, kernel_size = 3),\n",
    "    tf.keras.layers.MaxPooling2D(pool_size = (2,2), strides = (2, 2)),   \n",
    "  tf.keras.layers.Flatten(),\n",
    "tf.keras.layers.Dense(128, activation=tf.nn.relu),\n",
    "tf.keras.layers.Dense(29, activation=tf.nn.softmax)])\n",
    "\n",
    "\n",
    "model.compile(optimizer='adam', loss='sparse_categorical_crossentropy', metrics=['accuracy'], )\n",
    "%time history = model.fit(train_ds, epochs=10, validation_data = val_ds)\n",
    "##\n",
    "test_loss, test_acc = model.evaluate(val_ds)\n",
    "print(\"Test image accuracy :{}\".format(test_acc))\n",
    "##\n",
    "plt.plot(history.history['accuracy'], '-o' ,label='accuracy')\n",
    "plt.plot(history.history['val_accuracy'], '-o', label = 'val_accuracy')\n",
    "plt.xlabel('Epoch')\n",
    "plt.ylabel('Accuracy')\n",
    "plt.ylim([0.5, 1])\n",
    "plt.legend(loc='lower right')\n",
    "##\n",
    "model.save('model_cnn2')\n",
    "## for validation data set , check the classification report.\n",
    "val_pred = np.array([])\n",
    "val_labels = np.array([])\n",
    "for x, y in val_ds:\n",
    "    predictions =  np.argmax(model.predict(x), axis = -1)\n",
    "    val_pred = np.concatenate([val_pred,np.array(predictions)])\n",
    "    val_labels = np.concatenate([val_labels , y.numpy()])\n",
    "    \n",
    "##\n",
    "print('Classification Report')\n",
    "target_names = class_names\n",
    "print(classification_report(val_labels, val_pred, target_names=class_names))\n",
    "##\n",
    "print(model.summary())\n",
    "##\n",
    "predicted_labels = model.predict(pred_images_resized)\n",
    "pred_labels = np.argmax(predicted_labels, axis = -1)\n",
    "##\n",
    "## visualize prediction images with the prediction \n",
    "plt.figure(figsize=(20, 40))\n",
    "for i in range(24):\n",
    "    ax = plt.subplot(6, 4, i + 1)\n",
    "    plt.imshow(pred_images[i])\n",
    "    plt.title(\"predicted -\" + class_names[pred_labels[i]])\n",
    "    plt.xlabel(\"actual -\" + test_class[i])"
   ]
  },
  {
   "cell_type": "markdown",
   "metadata": {},
   "source": [
    "The model has 100% test set accuracy for  this fold of  cross validation and with this set of training and validation images.   "
   ]
  }
 ],
 "metadata": {
  "kernelspec": {
   "display_name": "Python 3",
   "language": "python",
   "name": "python3"
  },
  "language_info": {
   "codemirror_mode": {
    "name": "ipython",
    "version": 3
   },
   "file_extension": ".py",
   "mimetype": "text/x-python",
   "name": "python",
   "nbconvert_exporter": "python",
   "pygments_lexer": "ipython3",
   "version": "3.7.10"
  }
 },
 "nbformat": 4,
 "nbformat_minor": 4
}
